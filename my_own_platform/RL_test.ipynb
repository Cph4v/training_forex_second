{
 "cells": [
  {
   "cell_type": "code",
   "execution_count": 4,
   "id": "46a22e13",
   "metadata": {},
   "outputs": [
    {
     "name": "stdout",
     "output_type": "stream",
     "text": [
      "Collecting gymnasium\n",
      "  Downloading gymnasium-1.1.1-py3-none-any.whl.metadata (9.4 kB)\n",
      "Requirement already satisfied: numpy>=1.21.0 in c:\\users\\it city\\downloads\\ml-algotrading-project-main (3)\\.venv\\lib\\site-packages (from gymnasium) (1.23.0)\n",
      "Requirement already satisfied: cloudpickle>=1.2.0 in c:\\users\\it city\\downloads\\ml-algotrading-project-main (3)\\.venv\\lib\\site-packages (from gymnasium) (3.1.1)\n",
      "Requirement already satisfied: typing-extensions>=4.3.0 in c:\\users\\it city\\downloads\\ml-algotrading-project-main (3)\\.venv\\lib\\site-packages (from gymnasium) (4.12.2)\n",
      "Collecting farama-notifications>=0.0.1 (from gymnasium)\n",
      "  Downloading Farama_Notifications-0.0.4-py3-none-any.whl.metadata (558 bytes)\n",
      "Downloading gymnasium-1.1.1-py3-none-any.whl (965 kB)\n",
      "   ---------------------------------------- 0.0/965.4 kB ? eta -:--:--\n",
      "   ---------------------------------------- 0.0/965.4 kB ? eta -:--:--\n",
      "   ---------------------------------------- 0.0/965.4 kB ? eta -:--:--\n",
      "   ---------------------------------------- 0.0/965.4 kB ? eta -:--:--\n",
      "   ---------- ----------------------------- 262.1/965.4 kB ? eta -:--:--\n",
      "   ---------- ----------------------------- 262.1/965.4 kB ? eta -:--:--\n",
      "   ---------- ----------------------------- 262.1/965.4 kB ? eta -:--:--\n",
      "   ---------- ----------------------------- 262.1/965.4 kB ? eta -:--:--\n",
      "   -------------------- ----------------- 524.3/965.4 kB 430.4 kB/s eta 0:00:02\n",
      "   -------------------- ----------------- 524.3/965.4 kB 430.4 kB/s eta 0:00:02\n",
      "   ------------------------------ ------- 786.4/965.4 kB 479.2 kB/s eta 0:00:01\n",
      "   ------------------------------ ------- 786.4/965.4 kB 479.2 kB/s eta 0:00:01\n",
      "   ------------------------------ ------- 786.4/965.4 kB 479.2 kB/s eta 0:00:01\n",
      "   -------------------------------------- 965.4/965.4 kB 401.9 kB/s eta 0:00:00\n",
      "Downloading Farama_Notifications-0.0.4-py3-none-any.whl (2.5 kB)\n",
      "Installing collected packages: farama-notifications, gymnasium\n",
      "\n",
      "   ---------------------------------------- 0/2 [farama-notifications]\n",
      "   ---------------------------------------- 0/2 [farama-notifications]\n",
      "   -------------------- ------------------- 1/2 [gymnasium]\n",
      "   -------------------- ------------------- 1/2 [gymnasium]\n",
      "   -------------------- ------------------- 1/2 [gymnasium]\n",
      "   -------------------- ------------------- 1/2 [gymnasium]\n",
      "   -------------------- ------------------- 1/2 [gymnasium]\n",
      "   -------------------- ------------------- 1/2 [gymnasium]\n",
      "   -------------------- ------------------- 1/2 [gymnasium]\n",
      "   -------------------- ------------------- 1/2 [gymnasium]\n",
      "   -------------------- ------------------- 1/2 [gymnasium]\n",
      "   -------------------- ------------------- 1/2 [gymnasium]\n",
      "   -------------------- ------------------- 1/2 [gymnasium]\n",
      "   -------------------- ------------------- 1/2 [gymnasium]\n",
      "   -------------------- ------------------- 1/2 [gymnasium]\n",
      "   ---------------------------------------- 2/2 [gymnasium]\n",
      "\n",
      "Successfully installed farama-notifications-0.0.4 gymnasium-1.1.1\n",
      "Note: you may need to restart the kernel to use updated packages.\n"
     ]
    },
    {
     "name": "stderr",
     "output_type": "stream",
     "text": [
      "\n",
      "[notice] A new release of pip is available: 25.1 -> 25.1.1\n",
      "[notice] To update, run: python.exe -m pip install --upgrade pip\n"
     ]
    }
   ],
   "source": [
    "pip install gymnasium"
   ]
  },
  {
   "cell_type": "code",
   "execution_count": 5,
   "id": "fcbe9743",
   "metadata": {},
   "outputs": [],
   "source": [
    "import gymnasium as gym"
   ]
  },
  {
   "cell_type": "code",
   "execution_count": 6,
   "id": "2b03d943",
   "metadata": {},
   "outputs": [],
   "source": [
    "env = gym.make('CartPole-v1')"
   ]
  },
  {
   "cell_type": "code",
   "execution_count": 7,
   "id": "f386335a",
   "metadata": {},
   "outputs": [
    {
     "data": {
      "text/plain": [
       "Discrete(2)"
      ]
     },
     "execution_count": 7,
     "metadata": {},
     "output_type": "execute_result"
    }
   ],
   "source": [
    "env.action_space"
   ]
  },
  {
   "cell_type": "code",
   "execution_count": 8,
   "id": "1c20613d",
   "metadata": {},
   "outputs": [
    {
     "data": {
      "text/plain": [
       "2"
      ]
     },
     "execution_count": 8,
     "metadata": {},
     "output_type": "execute_result"
    }
   ],
   "source": [
    "env.action_space.n"
   ]
  },
  {
   "cell_type": "code",
   "execution_count": 11,
   "id": "463c42aa",
   "metadata": {},
   "outputs": [
    {
     "data": {
      "text/plain": [
       "[0, 0, 0, 1, 0, 1, 1, 1, 0, 0]"
      ]
     },
     "execution_count": 11,
     "metadata": {},
     "output_type": "execute_result"
    }
   ],
   "source": [
    "[env.action_space.sample() for _ in range(10)]"
   ]
  },
  {
   "cell_type": "code",
   "execution_count": 12,
   "id": "d5d2c6d6",
   "metadata": {},
   "outputs": [
    {
     "data": {
      "text/plain": [
       "Box([-4.8               -inf -0.41887903        -inf], [4.8               inf 0.41887903        inf], (4,), float32)"
      ]
     },
     "execution_count": 12,
     "metadata": {},
     "output_type": "execute_result"
    }
   ],
   "source": [
    "env.observation_space"
   ]
  },
  {
   "cell_type": "code",
   "execution_count": 13,
   "id": "fdb1ab32",
   "metadata": {},
   "outputs": [
    {
     "data": {
      "text/plain": [
       "(4,)"
      ]
     },
     "execution_count": 13,
     "metadata": {},
     "output_type": "execute_result"
    }
   ],
   "source": [
    "env.observation_space.shape"
   ]
  },
  {
   "cell_type": "code",
   "execution_count": 23,
   "id": "b8d01d46",
   "metadata": {},
   "outputs": [
    {
     "data": {
      "text/plain": [
       "(array([ 0.03349816,  0.0096554 , -0.02111368, -0.04570484], dtype=float32),\n",
       " {})"
      ]
     },
     "execution_count": 23,
     "metadata": {},
     "output_type": "execute_result"
    }
   ],
   "source": [
    "env.reset(seed=100)"
   ]
  },
  {
   "cell_type": "code",
   "execution_count": 24,
   "id": "086d9e8a",
   "metadata": {},
   "outputs": [
    {
     "data": {
      "text/plain": [
       "(array([ 0.03369127, -0.18515752, -0.02202777,  0.24024247], dtype=float32),\n",
       " 1.0,\n",
       " False,\n",
       " False,\n",
       " {})"
      ]
     },
     "execution_count": 24,
     "metadata": {},
     "output_type": "execute_result"
    }
   ],
   "source": [
    "env.step(0)"
   ]
  },
  {
   "cell_type": "code",
   "execution_count": null,
   "id": "1344203f",
   "metadata": {},
   "outputs": [
    {
     "data": {
      "text/plain": [
       "(array([ 0.03019356,  0.20563667, -0.01840905, -0.35737318], dtype=float32),\n",
       " 1.0,\n",
       " False,\n",
       " False,\n",
       " {})"
      ]
     },
     "execution_count": 26,
     "metadata": {},
     "output_type": "execute_result"
    }
   ],
   "source": [
    "env.step(1)"
   ]
  },
  {
   "cell_type": "code",
   "execution_count": 34,
   "id": "161c736b",
   "metadata": {},
   "outputs": [
    {
     "data": {
      "text/plain": [
       "[14,\n",
       " 9,\n",
       " 26,\n",
       " 53,\n",
       " 12,\n",
       " 19,\n",
       " 16,\n",
       " 24,\n",
       " 17,\n",
       " 27,\n",
       " 19,\n",
       " 26,\n",
       " 25,\n",
       " 13,\n",
       " 16,\n",
       " 31,\n",
       " 46,\n",
       " 12,\n",
       " 47,\n",
       " 17,\n",
       " 55,\n",
       " 27,\n",
       " 22,\n",
       " 18,\n",
       " 26,\n",
       " 21,\n",
       " 22,\n",
       " 26,\n",
       " 18,\n",
       " 14]"
      ]
     },
     "execution_count": 34,
     "metadata": {},
     "output_type": "execute_result"
    }
   ],
   "source": [
    "class Agent():\n",
    "    def __init__(self):\n",
    "        self.env = gym.make('CartPole-v1')\n",
    "    def play(self, episodes=1):\n",
    "        self.tr = list()\n",
    "        for e in range(episodes):\n",
    "            self.env.reset()\n",
    "            for step in range(1, 100):\n",
    "                a = self.env.action_space.sample()\n",
    "                state, reward, done, truncated, info = self.env.step(a)\n",
    "                if done:\n",
    "                    self.tr.append(step) \n",
    "                    break\n",
    "\n",
    "ra = Agent()\n",
    "ra.play(30)\n",
    "ra.tr"
   ]
  },
  {
   "cell_type": "code",
   "execution_count": 35,
   "id": "94455367",
   "metadata": {},
   "outputs": [
    {
     "data": {
      "text/plain": [
       "23.93"
      ]
     },
     "execution_count": 35,
     "metadata": {},
     "output_type": "execute_result"
    }
   ],
   "source": [
    "round(sum(ra.tr) / len(ra.tr), 2)"
   ]
  },
  {
   "cell_type": "code",
   "execution_count": null,
   "id": "92ed2ece",
   "metadata": {},
   "outputs": [],
   "source": [
    "import os  \n",
    "import random  \n",
    "import warnings  \n",
    "import numpy as np  \n",
    "import tensorflow as tf  \n",
    "from tensorflow import keras  \n",
    "from collections import deque  \n",
    "from keras.layers import Dense  \n",
    "from keras.models import Sequential\n",
    "\n",
    "# Cell [17]\n",
    "warnings.simplefilter('ignore')  \n",
    "os.environ['TF_CPP_MIN_LOG_LEVEL'] = '3'  \n",
    "os.environ['PYTHONHASHSEED'] = '0'\n",
    "\n",
    "# Cell [18]\n",
    "from tensorflow.python.framework.ops import disable_eager_execution\n",
    "disable_eager_execution()\n",
    "random.seed(100)\n",
    "tf.random.set_seed(100)\n",
    "opt = keras.optimizers.Adam(learning_rate=0.0001)"
   ]
  },
  {
   "cell_type": "code",
   "execution_count": null,
   "id": "3dafc649",
   "metadata": {},
   "outputs": [
    {
     "name": "stdout",
     "output_type": "stream",
     "text": [
      "WARNING:tensorflow:From C:\\Users\\IT CITY\\AppData\\Local\\Temp\\ipykernel_13684\\4236425842.py:47: The name tf.placeholder is deprecated. Please use tf.compat.v1.placeholder instead.\n",
      "\n",
      "WARNING:tensorflow:From C:\\Users\\IT CITY\\AppData\\Local\\Temp\\ipykernel_13684\\4236425842.py:75: The name tf.train.AdamOptimizer is deprecated. Please use tf.compat.v1.train.AdamOptimizer instead.\n",
      "\n",
      "episode=1500 | treward=   8 | max= 109\n",
      "Training completed!\n"
     ]
    }
   ],
   "source": []
  },
  {
   "cell_type": "code",
   "execution_count": 2,
   "id": "1ee1cb0d",
   "metadata": {},
   "outputs": [
    {
     "name": "stdout",
     "output_type": "stream",
     "text": [
      "\n",
      "Testing agent performance:\n",
      "Episode 1: 8 steps | Episode 2: 10 steps | Episode 3: 10 steps | Episode 4: 9 steps | Episode 5: 9 steps | Episode 6: 8 steps | Episode 7: 10 steps | Episode 8: 10 steps | Episode 9: 10 steps | Episode 10: 9 steps | Episode 11: 10 steps | Episode 12: 9 steps | Episode 13: 10 steps | Episode 14: 10 steps | Episode 15: 10 steps | \n",
      "Average reward over 15 test episodes: 9.47\n"
     ]
    }
   ],
   "source": [
    "agent.test(15)"
   ]
  },
  {
   "cell_type": "code",
   "execution_count": 3,
   "id": "1d0209be",
   "metadata": {},
   "outputs": [
    {
     "data": {
      "text/plain": [
       "0.09997053357470892"
      ]
     },
     "execution_count": 3,
     "metadata": {},
     "output_type": "execute_result"
    }
   ],
   "source": [
    "agent.epsilon"
   ]
  },
  {
   "cell_type": "code",
   "execution_count": null,
   "id": "b80bd87a",
   "metadata": {},
   "outputs": [],
   "source": []
  }
 ],
 "metadata": {
  "kernelspec": {
   "display_name": ".venv",
   "language": "python",
   "name": "python3"
  },
  "language_info": {
   "codemirror_mode": {
    "name": "ipython",
    "version": 3
   },
   "file_extension": ".py",
   "mimetype": "text/x-python",
   "name": "python",
   "nbconvert_exporter": "python",
   "pygments_lexer": "ipython3",
   "version": "3.10.6"
  }
 },
 "nbformat": 4,
 "nbformat_minor": 5
}
